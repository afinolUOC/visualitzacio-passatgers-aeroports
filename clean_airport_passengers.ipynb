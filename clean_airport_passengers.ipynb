{
 "cells": [
  {
   "cell_type": "code",
   "execution_count": 17,
   "id": "8aaf6823",
   "metadata": {},
   "outputs": [],
   "source": [
    "import numpy as np\n",
    "import pandas as pd"
   ]
  },
  {
   "cell_type": "code",
   "execution_count": 30,
   "id": "8d0f20a5",
   "metadata": {},
   "outputs": [
    {
     "data": {
      "text/plain": [
       "(9803, 11)"
      ]
     },
     "execution_count": 30,
     "metadata": {},
     "output_type": "execute_result"
    }
   ],
   "source": [
    "#Lectura del fitxer csv \n",
    "df_passengers = pd.read_csv('estat_avia_paoa_filtered_en.csv')\n",
    "df_passengers.shape"
   ]
  },
  {
   "cell_type": "markdown",
   "id": "fdb35f9d",
   "metadata": {},
   "source": [
    "Tenim 9.803 observacions amb 11 variables cada una."
   ]
  },
  {
   "cell_type": "code",
   "execution_count": 31,
   "id": "2cfb975c",
   "metadata": {},
   "outputs": [
    {
     "data": {
      "text/html": [
       "<div>\n",
       "<style scoped>\n",
       "    .dataframe tbody tr th:only-of-type {\n",
       "        vertical-align: middle;\n",
       "    }\n",
       "\n",
       "    .dataframe tbody tr th {\n",
       "        vertical-align: top;\n",
       "    }\n",
       "\n",
       "    .dataframe thead th {\n",
       "        text-align: right;\n",
       "    }\n",
       "</style>\n",
       "<table border=\"1\" class=\"dataframe\">\n",
       "  <thead>\n",
       "    <tr style=\"text-align: right;\">\n",
       "      <th></th>\n",
       "      <th>STRUCTURE</th>\n",
       "      <th>STRUCTURE_ID</th>\n",
       "      <th>freq</th>\n",
       "      <th>unit</th>\n",
       "      <th>tra_meas</th>\n",
       "      <th>rep_airp</th>\n",
       "      <th>schedule</th>\n",
       "      <th>tra_cov</th>\n",
       "      <th>TIME_PERIOD</th>\n",
       "      <th>OBS_VALUE</th>\n",
       "      <th>OBS_FLAG</th>\n",
       "    </tr>\n",
       "  </thead>\n",
       "  <tbody>\n",
       "    <tr>\n",
       "      <th>0</th>\n",
       "      <td>dataflow</td>\n",
       "      <td>ESTAT:AVIA_PAOA(1.0)</td>\n",
       "      <td>A</td>\n",
       "      <td>PAS</td>\n",
       "      <td>PAS_BRD_ARR</td>\n",
       "      <td>AT_LOWG</td>\n",
       "      <td>TOT</td>\n",
       "      <td>INTL</td>\n",
       "      <td>2017</td>\n",
       "      <td>408716</td>\n",
       "      <td>NaN</td>\n",
       "    </tr>\n",
       "    <tr>\n",
       "      <th>1</th>\n",
       "      <td>dataflow</td>\n",
       "      <td>ESTAT:AVIA_PAOA(1.0)</td>\n",
       "      <td>A</td>\n",
       "      <td>PAS</td>\n",
       "      <td>PAS_BRD_ARR</td>\n",
       "      <td>AT_LOWG</td>\n",
       "      <td>TOT</td>\n",
       "      <td>INTL</td>\n",
       "      <td>2018</td>\n",
       "      <td>441657</td>\n",
       "      <td>NaN</td>\n",
       "    </tr>\n",
       "    <tr>\n",
       "      <th>2</th>\n",
       "      <td>dataflow</td>\n",
       "      <td>ESTAT:AVIA_PAOA(1.0)</td>\n",
       "      <td>A</td>\n",
       "      <td>PAS</td>\n",
       "      <td>PAS_BRD_ARR</td>\n",
       "      <td>AT_LOWG</td>\n",
       "      <td>TOT</td>\n",
       "      <td>INTL</td>\n",
       "      <td>2019</td>\n",
       "      <td>448662</td>\n",
       "      <td>NaN</td>\n",
       "    </tr>\n",
       "    <tr>\n",
       "      <th>3</th>\n",
       "      <td>dataflow</td>\n",
       "      <td>ESTAT:AVIA_PAOA(1.0)</td>\n",
       "      <td>A</td>\n",
       "      <td>PAS</td>\n",
       "      <td>PAS_BRD_ARR</td>\n",
       "      <td>AT_LOWG</td>\n",
       "      <td>TOT</td>\n",
       "      <td>INTL</td>\n",
       "      <td>2020</td>\n",
       "      <td>76334</td>\n",
       "      <td>NaN</td>\n",
       "    </tr>\n",
       "    <tr>\n",
       "      <th>4</th>\n",
       "      <td>dataflow</td>\n",
       "      <td>ESTAT:AVIA_PAOA(1.0)</td>\n",
       "      <td>A</td>\n",
       "      <td>PAS</td>\n",
       "      <td>PAS_BRD_ARR</td>\n",
       "      <td>AT_LOWG</td>\n",
       "      <td>TOT</td>\n",
       "      <td>INTL</td>\n",
       "      <td>2021</td>\n",
       "      <td>82843</td>\n",
       "      <td>NaN</td>\n",
       "    </tr>\n",
       "  </tbody>\n",
       "</table>\n",
       "</div>"
      ],
      "text/plain": [
       "  STRUCTURE          STRUCTURE_ID freq unit     tra_meas rep_airp schedule  \\\n",
       "0  dataflow  ESTAT:AVIA_PAOA(1.0)    A  PAS  PAS_BRD_ARR  AT_LOWG      TOT   \n",
       "1  dataflow  ESTAT:AVIA_PAOA(1.0)    A  PAS  PAS_BRD_ARR  AT_LOWG      TOT   \n",
       "2  dataflow  ESTAT:AVIA_PAOA(1.0)    A  PAS  PAS_BRD_ARR  AT_LOWG      TOT   \n",
       "3  dataflow  ESTAT:AVIA_PAOA(1.0)    A  PAS  PAS_BRD_ARR  AT_LOWG      TOT   \n",
       "4  dataflow  ESTAT:AVIA_PAOA(1.0)    A  PAS  PAS_BRD_ARR  AT_LOWG      TOT   \n",
       "\n",
       "  tra_cov  TIME_PERIOD  OBS_VALUE OBS_FLAG  \n",
       "0    INTL         2017     408716      NaN  \n",
       "1    INTL         2018     441657      NaN  \n",
       "2    INTL         2019     448662      NaN  \n",
       "3    INTL         2020      76334      NaN  \n",
       "4    INTL         2021      82843      NaN  "
      ]
     },
     "execution_count": 31,
     "metadata": {},
     "output_type": "execute_result"
    }
   ],
   "source": [
    "df_passengers.head()"
   ]
  },
  {
   "cell_type": "markdown",
   "id": "6ad305bd",
   "metadata": {},
   "source": [
    "Degut a la forma com em generat el dataframe tenim columnes que no es aporten cap valor ja que contenen el mateix valor per a totes les files, seleccionem les columnes que ens seran d'utilitat."
   ]
  },
  {
   "cell_type": "code",
   "execution_count": 32,
   "id": "663c8614",
   "metadata": {},
   "outputs": [],
   "source": [
    "#Seleccionem les columnes utils\n",
    "df_passengers = df_passengers[[\"tra_meas\",\"rep_airp\",\"tra_cov\",\"TIME_PERIOD\",\"OBS_VALUE\"]]"
   ]
  },
  {
   "cell_type": "markdown",
   "id": "21adced2",
   "metadata": {},
   "source": [
    "La culumna rep_airp conte el codi del pais i el codi de l'aeroport, ho separem en dues variables."
   ]
  },
  {
   "cell_type": "code",
   "execution_count": 33,
   "id": "0136f050",
   "metadata": {},
   "outputs": [],
   "source": [
    "#separem en dos culmnes\n",
    "df_passengers[['country_code', 'airport_code']] = df_passengers['rep_airp'].str.split('_', expand=True)\n",
    "#eliminem la columna antiga\n",
    "df_passengers = df_passengers.drop('rep_airp', axis=1)"
   ]
  },
  {
   "cell_type": "code",
   "execution_count": 34,
   "id": "75ecd6dc",
   "metadata": {},
   "outputs": [],
   "source": [
    "#Adecuem el format de la columna tra_meas i tra_cov i el nom d'algunes columnes per fer-los més entenedors\n",
    "df_passengers['tra_meas'] = df_passengers['tra_meas'].replace({'PAS_BRD_ARR': 'Arrivals', 'PAS_BRD_DEP': 'Departures'})\n",
    "df_passengers['tra_cov'] = df_passengers['tra_cov'].replace({'INTL': 'International', 'NAT': 'National'})\n",
    "df_passengers = df_passengers.rename(columns={'tra_meas': 'direction', 'tra_cov':'coverage', 'OBS_VALUE':'passengers', 'TIME_PERIOD':'year'})"
   ]
  },
  {
   "cell_type": "code",
   "execution_count": 35,
   "id": "4aaf2e32",
   "metadata": {},
   "outputs": [
    {
     "data": {
      "text/html": [
       "<div>\n",
       "<style scoped>\n",
       "    .dataframe tbody tr th:only-of-type {\n",
       "        vertical-align: middle;\n",
       "    }\n",
       "\n",
       "    .dataframe tbody tr th {\n",
       "        vertical-align: top;\n",
       "    }\n",
       "\n",
       "    .dataframe thead th {\n",
       "        text-align: right;\n",
       "    }\n",
       "</style>\n",
       "<table border=\"1\" class=\"dataframe\">\n",
       "  <thead>\n",
       "    <tr style=\"text-align: right;\">\n",
       "      <th></th>\n",
       "      <th>direction</th>\n",
       "      <th>coverage</th>\n",
       "      <th>year</th>\n",
       "      <th>passengers</th>\n",
       "      <th>country_code</th>\n",
       "      <th>airport_code</th>\n",
       "    </tr>\n",
       "  </thead>\n",
       "  <tbody>\n",
       "    <tr>\n",
       "      <th>0</th>\n",
       "      <td>Arrivals</td>\n",
       "      <td>International</td>\n",
       "      <td>2017</td>\n",
       "      <td>408716</td>\n",
       "      <td>AT</td>\n",
       "      <td>LOWG</td>\n",
       "    </tr>\n",
       "    <tr>\n",
       "      <th>1</th>\n",
       "      <td>Arrivals</td>\n",
       "      <td>International</td>\n",
       "      <td>2018</td>\n",
       "      <td>441657</td>\n",
       "      <td>AT</td>\n",
       "      <td>LOWG</td>\n",
       "    </tr>\n",
       "    <tr>\n",
       "      <th>2</th>\n",
       "      <td>Arrivals</td>\n",
       "      <td>International</td>\n",
       "      <td>2019</td>\n",
       "      <td>448662</td>\n",
       "      <td>AT</td>\n",
       "      <td>LOWG</td>\n",
       "    </tr>\n",
       "    <tr>\n",
       "      <th>3</th>\n",
       "      <td>Arrivals</td>\n",
       "      <td>International</td>\n",
       "      <td>2020</td>\n",
       "      <td>76334</td>\n",
       "      <td>AT</td>\n",
       "      <td>LOWG</td>\n",
       "    </tr>\n",
       "    <tr>\n",
       "      <th>4</th>\n",
       "      <td>Arrivals</td>\n",
       "      <td>International</td>\n",
       "      <td>2021</td>\n",
       "      <td>82843</td>\n",
       "      <td>AT</td>\n",
       "      <td>LOWG</td>\n",
       "    </tr>\n",
       "  </tbody>\n",
       "</table>\n",
       "</div>"
      ],
      "text/plain": [
       "  direction       coverage  year  passengers country_code airport_code\n",
       "0  Arrivals  International  2017      408716           AT         LOWG\n",
       "1  Arrivals  International  2018      441657           AT         LOWG\n",
       "2  Arrivals  International  2019      448662           AT         LOWG\n",
       "3  Arrivals  International  2020       76334           AT         LOWG\n",
       "4  Arrivals  International  2021       82843           AT         LOWG"
      ]
     },
     "execution_count": 35,
     "metadata": {},
     "output_type": "execute_result"
    }
   ],
   "source": [
    "df_passengers.head()"
   ]
  },
  {
   "cell_type": "markdown",
   "id": "5e4bc115",
   "metadata": {},
   "source": [
    "**Nota**: Hi ha alguns aeroports dels que no disposem de les dades de tots els anys o de totes les modalitats. Ho haurem de tenir en compte segons la pregunta que volem respondre o la visualització que estem realitzant."
   ]
  },
  {
   "cell_type": "markdown",
   "id": "ae202174",
   "metadata": {},
   "source": [
    "Passem ara a treballar amb el dataset complementari per tal d'obtenir les localitzacions dels aeroports."
   ]
  },
  {
   "cell_type": "code",
   "execution_count": 36,
   "id": "3755a538",
   "metadata": {},
   "outputs": [],
   "source": [
    "#Lectura del fitxer\n",
    "df_locations = pd.read_csv('iata-icao.csv')\n",
    "#seleccio de files necessaries\n",
    "df_locations = df_locations.loc[df_locations['icao'].isin(df_passengers['airport_code'])]"
   ]
  },
  {
   "cell_type": "code",
   "execution_count": 40,
   "id": "7b06ae81",
   "metadata": {},
   "outputs": [],
   "source": [
    "#seleccio de columnes rellevants\n",
    "df_locations = df_locations[[\"icao\", \"airport\", \"latitude\", \"longitude\"]]"
   ]
  },
  {
   "cell_type": "code",
   "execution_count": 41,
   "id": "c34b483d",
   "metadata": {},
   "outputs": [
    {
     "data": {
      "text/html": [
       "<div>\n",
       "<style scoped>\n",
       "    .dataframe tbody tr th:only-of-type {\n",
       "        vertical-align: middle;\n",
       "    }\n",
       "\n",
       "    .dataframe tbody tr th {\n",
       "        vertical-align: top;\n",
       "    }\n",
       "\n",
       "    .dataframe thead th {\n",
       "        text-align: right;\n",
       "    }\n",
       "</style>\n",
       "<table border=\"1\" class=\"dataframe\">\n",
       "  <thead>\n",
       "    <tr style=\"text-align: right;\">\n",
       "      <th></th>\n",
       "      <th>icao</th>\n",
       "      <th>airport</th>\n",
       "      <th>latitude</th>\n",
       "      <th>longitude</th>\n",
       "    </tr>\n",
       "  </thead>\n",
       "  <tbody>\n",
       "    <tr>\n",
       "      <th>202</th>\n",
       "      <td>LOWL</td>\n",
       "      <td>Linz Airport (Blue Danube Airport)</td>\n",
       "      <td>48.2332</td>\n",
       "      <td>14.1875</td>\n",
       "    </tr>\n",
       "    <tr>\n",
       "      <th>203</th>\n",
       "      <td>LOWS</td>\n",
       "      <td>Salzburg Airport</td>\n",
       "      <td>47.7933</td>\n",
       "      <td>13.0043</td>\n",
       "    </tr>\n",
       "    <tr>\n",
       "      <th>204</th>\n",
       "      <td>LOWK</td>\n",
       "      <td>Klagenfurt Airport</td>\n",
       "      <td>46.6425</td>\n",
       "      <td>14.3377</td>\n",
       "    </tr>\n",
       "    <tr>\n",
       "      <th>205</th>\n",
       "      <td>LOWG</td>\n",
       "      <td>Graz Airport</td>\n",
       "      <td>46.9911</td>\n",
       "      <td>15.4396</td>\n",
       "    </tr>\n",
       "    <tr>\n",
       "      <th>206</th>\n",
       "      <td>LOWI</td>\n",
       "      <td>Innsbruck Airport (Kranebitten Airport)</td>\n",
       "      <td>47.2602</td>\n",
       "      <td>11.3440</td>\n",
       "    </tr>\n",
       "  </tbody>\n",
       "</table>\n",
       "</div>"
      ],
      "text/plain": [
       "     icao                                  airport  latitude  longitude\n",
       "202  LOWL       Linz Airport (Blue Danube Airport)   48.2332    14.1875\n",
       "203  LOWS                         Salzburg Airport   47.7933    13.0043\n",
       "204  LOWK                       Klagenfurt Airport   46.6425    14.3377\n",
       "205  LOWG                             Graz Airport   46.9911    15.4396\n",
       "206  LOWI  Innsbruck Airport (Kranebitten Airport)   47.2602    11.3440"
      ]
     },
     "execution_count": 41,
     "metadata": {},
     "output_type": "execute_result"
    }
   ],
   "source": [
    "df_locations.head()"
   ]
  },
  {
   "cell_type": "markdown",
   "id": "ad8a4d8a",
   "metadata": {},
   "source": [
    "Per cada codi d'areport tenim el seu nom, la latitud i la longitud on es troba. "
   ]
  },
  {
   "cell_type": "code",
   "execution_count": 42,
   "id": "8429cf78",
   "metadata": {},
   "outputs": [],
   "source": [
    "#guardem els fitxers\n",
    "df_passengers.to_csv('passengers.csv', index=False)\n",
    "df_locations.to_csv('airports_locations.csv', index=False)"
   ]
  },
  {
   "cell_type": "code",
   "execution_count": null,
   "id": "8241187d",
   "metadata": {},
   "outputs": [],
   "source": []
  }
 ],
 "metadata": {
  "kernelspec": {
   "display_name": "Python 3 (ipykernel)",
   "language": "python",
   "name": "python3"
  },
  "language_info": {
   "codemirror_mode": {
    "name": "ipython",
    "version": 3
   },
   "file_extension": ".py",
   "mimetype": "text/x-python",
   "name": "python",
   "nbconvert_exporter": "python",
   "pygments_lexer": "ipython3",
   "version": "3.11.5"
  }
 },
 "nbformat": 4,
 "nbformat_minor": 5
}
